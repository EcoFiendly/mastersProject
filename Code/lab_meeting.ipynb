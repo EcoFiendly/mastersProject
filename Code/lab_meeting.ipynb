{
 "cells": [
  {
   "cell_type": "markdown",
   "metadata": {},
   "source": [
    "# Weekly meetings at 2:30"
   ]
  },
  {
   "cell_type": "markdown",
   "metadata": {},
   "source": [
    "Monday 9th at 1pm, methods\n",
    "Thurs 12th after reg meeting at 3pm, results\n",
    "Tues 17th 1230pm, discussion"
   ]
  },
  {
   "cell_type": "markdown",
   "metadata": {},
   "source": [
    "## Progress update"
   ]
  },
  {
   "cell_type": "markdown",
   "metadata": {},
   "source": [
    "## 5/08\n",
    "\n",
    "can pick same colors for similar topics and do a top topic per pixel map\n",
    "\n",
    "pick figures and decide how to panel them.\n",
    "write"
   ]
  },
  {
   "cell_type": "markdown",
   "metadata": {},
   "source": [
    "## 20/07\n",
    "\n",
    "mapped topics (present/absent) to mammals species range\n",
    "\n",
    "\n",
    "note:\n",
    "mention only species range data that iucn has\n",
    "denominator contains only the data that iucn has (which is not every one that is assesed)\n"
   ]
  },
  {
   "cell_type": "markdown",
   "metadata": {},
   "source": [
    "criteria for main text or appendix:\n",
    "1) a) map reflects topic accurately\\\n",
    "    b) areas in map does not reflect topic, surprising\\\n",
    "2) map challenges the topic"
   ]
  },
  {
   "cell_type": "markdown",
   "metadata": {},
   "source": [
    "![Heatmap of mean of monitor island endemics](../Data/mammals_range/rasters/1_Monitor_is.svg)\n",
    "Heatmap of mean of monitor island endemics"
   ]
  },
  {
   "cell_type": "markdown",
   "metadata": {},
   "source": [
    "^ main text\n",
    "most of the islands yes\n",
    "mediterranean and russia unexpected"
   ]
  },
  {
   "cell_type": "markdown",
   "metadata": {},
   "source": [
    "![Heatmap of mean of ](../Data/mammals_range/rasters/2_Water_poll.svg)\n",
    "Heatmap of mean of water pollution"
   ]
  },
  {
   "cell_type": "markdown",
   "metadata": {},
   "source": [
    "main text"
   ]
  },
  {
   "cell_type": "markdown",
   "metadata": {},
   "source": [
    "![Heatmap of mean of ](../Data/mammals_range/rasters/3_Aquatic_ec.svg)\n",
    "Heatmap of mean of aquatic ecology"
   ]
  },
  {
   "cell_type": "markdown",
   "metadata": {},
   "source": [
    "main text"
   ]
  },
  {
   "cell_type": "markdown",
   "metadata": {},
   "source": [
    "![Heatmap of mean of ](../Data/mammals_range/rasters/4_Forest_los.svg)\n",
    "Heatmap of mean of forest loss"
   ]
  },
  {
   "cell_type": "markdown",
   "metadata": {},
   "source": [
    "main text"
   ]
  },
  {
   "cell_type": "markdown",
   "metadata": {},
   "source": [
    "![Heatmap of mean of ](../Data/mammals_range/rasters/5_Monitoring.svg)\n",
    "Heatmap of mean of monitoring and rewilding"
   ]
  },
  {
   "cell_type": "markdown",
   "metadata": {},
   "source": [
    "main text"
   ]
  },
  {
   "cell_type": "markdown",
   "metadata": {},
   "source": [
    "![Heatmap of mean of ](../Data/mammals_range/rasters/6_Range.svg)\n",
    "Heatmap of mean of range"
   ]
  },
  {
   "cell_type": "markdown",
   "metadata": {},
   "source": [
    "appendix"
   ]
  },
  {
   "cell_type": "markdown",
   "metadata": {},
   "source": [
    "![Heatmap of mean of ](../Data/mammals_range/rasters/7_Common_thr.svg)\n",
    "Heatmap of mean of common threats"
   ]
  },
  {
   "cell_type": "markdown",
   "metadata": {},
   "source": [
    "appendix"
   ]
  },
  {
   "cell_type": "markdown",
   "metadata": {},
   "source": [
    "![Heatmap of mean of ](../Data/mammals_range/rasters/8_Forest_eco.svg)\n",
    "Heatmap of mean of forest ecosystems"
   ]
  },
  {
   "cell_type": "markdown",
   "metadata": {},
   "source": [
    "main"
   ]
  },
  {
   "cell_type": "markdown",
   "metadata": {},
   "source": [
    "![Heatmap of mean of ](../Data/mammals_range/rasters/9_Population.svg)\n",
    "Heatmap of mean of population structure"
   ]
  },
  {
   "cell_type": "markdown",
   "metadata": {},
   "source": [
    "main text"
   ]
  },
  {
   "cell_type": "markdown",
   "metadata": {},
   "source": [
    "![Heatmap of mean of ](../Data/mammals_range/rasters/10_Fisheries_.svg)\n",
    "Heatmap of mean of fisheries threats"
   ]
  },
  {
   "cell_type": "markdown",
   "metadata": {},
   "source": [
    "main"
   ]
  },
  {
   "cell_type": "markdown",
   "metadata": {},
   "source": [
    "![Heatmap of mean of ](../Data/mammals_range/rasters/11_Threat_dis.svg)\n",
    "Heatmap of mean of threat distribution"
   ]
  },
  {
   "cell_type": "markdown",
   "metadata": {},
   "source": [
    "appendix"
   ]
  },
  {
   "cell_type": "markdown",
   "metadata": {},
   "source": [
    "![Heatmap of mean of ](../Data/mammals_range/rasters/12_Forest_fra.svg)\n",
    "Heatmap of mean of forest fragmentation"
   ]
  },
  {
   "cell_type": "markdown",
   "metadata": {},
   "source": [
    "main"
   ]
  },
  {
   "cell_type": "markdown",
   "metadata": {},
   "source": [
    "![Heatmap of mean of ](../Data/mammals_range/rasters/13_Habitat_lo.svg)\n",
    "Heatmap of mean of habitat loss"
   ]
  },
  {
   "cell_type": "markdown",
   "metadata": {},
   "source": [
    "main"
   ]
  },
  {
   "cell_type": "markdown",
   "metadata": {},
   "source": [
    "![Heatmap of mean of ](../Data/mammals_range/rasters/14_Area_based.svg)\n",
    "Heatmap of mean of area based protection"
   ]
  },
  {
   "cell_type": "markdown",
   "metadata": {},
   "source": [
    "main"
   ]
  },
  {
   "cell_type": "markdown",
   "metadata": {},
   "source": [
    "![Heatmap of mean of ](../Data/mammals_range/rasters/15_Assessment.svg)\n",
    "Heatmap of mean of assessment criteria"
   ]
  },
  {
   "cell_type": "markdown",
   "metadata": {},
   "source": [
    "appendix"
   ]
  },
  {
   "cell_type": "markdown",
   "metadata": {},
   "source": [
    "![Heatmap of mean of ](../Data/mammals_range/rasters/16_Populati_1.svg)\n",
    "Heatmap of mean of population dynamics"
   ]
  },
  {
   "cell_type": "markdown",
   "metadata": {},
   "source": [
    "main"
   ]
  },
  {
   "cell_type": "markdown",
   "metadata": {},
   "source": [
    "![Heatmap of mean of ](../Data/mammals_range/rasters/17_Conservati.svg)\n",
    "Heatmap of mean of conservation actions"
   ]
  },
  {
   "cell_type": "markdown",
   "metadata": {},
   "source": [
    "main"
   ]
  },
  {
   "cell_type": "markdown",
   "metadata": {},
   "source": [
    "## Questions 20/07\n",
    "\n",
    "the maps show the proportion presence of topics to total number of species on each square of the raster"
   ]
  },
  {
   "cell_type": "markdown",
   "metadata": {},
   "source": [
    "## 17/06\n",
    "\n",
    "First plot kde using document topic composition\n",
    "Then try the maps stuff\n",
    "Last do the rationale + 6 section comparison\n",
    "\n",
    "Clarification:\n",
    "\n",
    "Applied model on the 7 sections:\n",
    "Returns 7 tables (1 for each section) of 17 columns. Each column is the topic probability, and each row is the topic composition for a single observation of text (one document) from the section\n",
    "\n",
    "Aggregate topic composition into 1 table:\n",
    "Returns 1 table of 17 columns. Each row is the topic composition for a single species assessment\n",
    "\n",
    "Plot probability distribution of topics (horizontal axis) by probability density of document having that probability\n",
    "\n",
    "Should I be plotting probability distribution using the topic composition for each document or assessment?\n",
    "\n",
    "## for finding out if rationale is a good summary for the other 6 sections\n",
    "Use euclidean distance for comparing topic distance\n",
    "    can get e.d. from topics themselves (prob, prob) + (prob, prob) + etc (15 more times) then sqrt\n",
    "    or get e.d. from whether a document is about a topic (0,0) (0,1) (1,0) (1,1)\n",
    "    \n",
    "Similarity between average of 6 vs rationale (cosine similarity)\n",
    "\n",
    "look at distance between summary for two different species\n",
    "    compare it with the distance between summary and the 6 section is summarizes\n",
    "    \n",
    "can assume same weightage or adjust according to length of the document"
   ]
  },
  {
   "cell_type": "markdown",
   "metadata": {},
   "source": [
    "### Heatmaps, with cutoff 1/17"
   ]
  },
  {
   "cell_type": "markdown",
   "metadata": {},
   "source": [
    "![Heatmap of topic distribution for each of the red list category](../Data/comb_global/red_list_cat_HM_23_06.svg)\n",
    "Heatmap of topic distribution for each of the red list category"
   ]
  },
  {
   "cell_type": "markdown",
   "metadata": {},
   "source": [
    "Start off with talking about the highlighted areas, then try to move onto the topics where there are correlations between a few categories (eg area based prot on LC and Extinct in wild). (applies to all heatmaps)"
   ]
  },
  {
   "cell_type": "markdown",
   "metadata": {},
   "source": [
    "![Heatmap of topic distribution for each of the red list category](../Data/comb_global/red_list_cat_HM_ftg.svg)\n",
    "Heatmap of topic distribution for each of the red list category (filtered then grouped)\n",
    "\n",
    "![Heatmap of topic distribution for each of the red list category](../Data/comb_global/red_list_cat_HM_gtf.svg)\n",
    "Heatmap of topic distribution for each of the red list category (grouped then filtered)"
   ]
  },
  {
   "cell_type": "markdown",
   "metadata": {},
   "source": [
    "![Heatmap of topic distribution for each of the systems](../Data/comb_global/systems_HM_23_06.svg)\n",
    "Heatmap of topic distribution for each of the systems"
   ]
  },
  {
   "cell_type": "markdown",
   "metadata": {},
   "source": [
    "![Heatmap of topic distribution for each of the systems](../Data/comb_global/systems_HM_ftg.svg)\n",
    "Heatmap of topic distribution for each of the systems (filtered then grouped)\n",
    "\n",
    "![Heatmap of topic distribution for each of the systems](../Data/comb_global/systems_HM_gtf.svg)\n",
    "Heatmap of topic distribution for each of the systems (grouped then filtered)"
   ]
  },
  {
   "cell_type": "markdown",
   "metadata": {},
   "source": [
    "![Heatmap of topic distribution for species only occupying one realm](../Data/comb_global/single_realm_topics_HM_23_06.svg)\n",
    "Heatmap of topic distribution for species only occupying one realm"
   ]
  },
  {
   "cell_type": "markdown",
   "metadata": {},
   "source": [
    "![Heatmap of topic distribution for species only occupying one realm](../Data/comb_global/single_realm_topics_HM_ftg.svg)\n",
    "Heatmap of topic distribution for species only occupying one realm (filter then group)\n",
    "\n",
    "![Heatmap of topic distribution for species only occupying one realm](../Data/comb_global/single_realm_topics_HM_gtf.svg)\n",
    "Heatmap of topic distribution for species only occupying one realm (group then filter)"
   ]
  },
  {
   "cell_type": "markdown",
   "metadata": {},
   "source": [
    "![Heatmap of topic distribution for top 75% of classes](../Data/comb_global/top_quart_class_topics_HM_23_06.svg)\n",
    "New heatmap of topic distribution for classes which contain more than 325 species"
   ]
  },
  {
   "cell_type": "markdown",
   "metadata": {},
   "source": [
    "Relate this hm to coverage of IUCN, eg high coverage on birds and mammals and less on reptiles etc."
   ]
  },
  {
   "cell_type": "markdown",
   "metadata": {},
   "source": [
    "![Heatmap of topic distribution for top 75% of classes](../Data/comb_global/top_quart_class_topics_HM_ftg.svg)\n",
    "New heatmap of topic distribution for classes which contain more than 325 species (filter then group)\n",
    "\n",
    "![Heatmap of topic distribution for top 75% of classes](../Data/comb_global/top_quart_class_topics_HM_gtf.svg)\n",
    "Heatmap of topic distribution for classes which contain more than 325 species (group then filter)"
   ]
  },
  {
   "cell_type": "markdown",
   "metadata": {},
   "source": [
    "![Heatmap of topic distribution for top 6 classes in chordata phylum](../Data/comb_global/six_class_topics_HM_23_06.svg)\n",
    "New heatmap of topic distribution for top 6 classes in the chordata phylum\n",
    "# don't think I need this because they are already reflected in the previous heatmap"
   ]
  },
  {
   "cell_type": "markdown",
   "metadata": {},
   "source": [
    "different groups to assess different classes differently (human bias), eg they are interested in different aspects of the classes."
   ]
  },
  {
   "cell_type": "markdown",
   "metadata": {},
   "source": [
    "![Heatmap of topic distribution for top 6 classes in chordata phylum](../Data/comb_global/six_class_topics_HM_ftg.svg)\n",
    "New heatmap of topic distribution for top 6 classes in the chordata phylum (filter then group)\n",
    "\n",
    "![Heatmap of topic distribution for top 6 classes in chordata phylum](../Data/comb_global/six_class_topics_HM_gtf.svg)\n",
    "Heatmap of topic distribution for top 6 classes in the chordata phylum (filter then group)"
   ]
  },
  {
   "cell_type": "markdown",
   "metadata": {},
   "source": [
    "![Heatmap of topic distribution for each of the realms](../Data/comb_global/realms_HM_new.svg)\n",
    "New heatmap of topic distribution for number of realms that species occur across, from 1 to 8.\n",
    "![Heatmap of topic distribution for each of the realms](../Data/comb_global/realms_HM.svg)\n",
    "Old heatmap of topic distribution for number of realms that species occur across, from 1 to 8.\n",
    "\n",
    "Number of realms refers to the total number of realms each species occur across, if a species occurs in both Afrotropical and Oceanic realms, number of realms is 2.\n",
    "\n",
    "Set the same scale in order to compare between old and new heatmaps"
   ]
  },
  {
   "cell_type": "markdown",
   "metadata": {},
   "source": [
    "## Current model output: (16 words printed)\n",
    "\n",
    "    Topic: 0 Monitor_island_endemics\n",
    "    Words: 0.115*\"record\" + 0.050*\"endemic\" + 0.046*\"occur\" + 0.037*\"know\" + 0.036*\"island\" + 0.035*\"find\" + 0.033*\"range\" + 0.029*\"species\" + 0.029*\"asl(above sea level)\" + 0.026*\"area\" + 0.019*\"province\" + 0.018*\"elevation\" + 0.016*\"specimen\" + 0.016*\"region\" + 0.015*\"report\" + 0.014*\"recent\"\n",
    "    \n",
    "    Topic: 1 Water_pollution_threat\n",
    "    Words: 0.068*\"threat\" + 0.050*\"habitat\" + 0.029*\"impact\" + 0.026*\"human\" + 0.022*\"water\" + 0.022*\"pollution\" + 0.020*\"activity\" + 0.020*\"development\" + 0.019*\"increase\" + 0.019*\"population\" + 0.018*\"major\" + 0.015*\"cause\" + 0.014*\"change\" + 0.013*\"potential\" + 0.013*\"use\" + 0.013*\"area\"\n",
    "    \n",
    "    Topic: 2 Aquatic_ecology\n",
    "    Words: 0.052*\"water\" + 0.040*\"find\" + 0.032*\"depth\" + 0.026*\"river\" + 0.026*\"occur\" + 0.024*\"stream\" + 0.024*\"small\" + 0.022*\"female\" + 0.019*\"male\" + 0.019*\"species\" + 0.018*\"length\" + 0.018*\"inhabit\" + 0.017*\"area\" + 0.016*\"large\" + 0.016*\"egg\" + 0.016*\"shallow\"\n",
    "    \n",
    "    Topic: 3 Forest_loss\n",
    "    Words: 0.058*\"forest\" + 0.044*\"area\" + 0.041*\"habitat\" + 0.035*\"agriculture\" + 0.035*\"threat\" + 0.034*\"fire\" + 0.024*\"threaten\" + 0.022*\"plant\" + 0.021*\"mining\" + 0.020*\"plantation\" + 0.019*\"timber\" + 0.017*\"deforestation\" + 0.017*\"tree\" + 0.016*\"logging\" + 0.015*\"wood\" + 0.015*\"activity\"\n",
    "    \n",
    "    Topic: 4 Monitoring_and_rewilding\n",
    "    Words: 0.061*\"population\" + 0.044*\"area\" + 0.042*\"survey\" + 0.039*\"habitat\" + 0.033*\"conservation\" + 0.028*\"range\" + 0.027*\"status\" + 0.022*\"suitable\" + 0.021*\"protect\" + 0.017*\"local\" + 0.017*\"study\" + 0.016*\"site\" + 0.016*\"country\" + 0.013*\"current\" + 0.012*\"establish\" + 0.011*\"need\"\n",
    "    \n",
    "    Topic: 5 Range\n",
    "    Words: 0.108*\"know\" + 0.069*\"area\" + 0.054*\"locality\" + 0.052*\"location\" + 0.051*\"extent_occurrence\" + 0.046*\"occupancy\" + 0.038*\"km²\" + 0.031*\"estimate\" + 0.025*\"endemic\" + 0.022*\"collection\" + 0.021*\"threat\" + 0.021*\"type\" + 0.018*\"base\" + 0.017*\"habitat\" + 0.017*\"occur\" + 0.014*\"find\"\n",
    "    \n",
    "    Topic: 6 Common_threats\n",
    "    Words: 0.118*\"common\" + 0.078*\"threat\" + 0.065*\"population\" + 0.059*\"know\" + 0.059*\"widespread\" + 0.056*\"major\" + 0.047*\"abundant\" + 0.046*\"locally\" + 0.039*\"range\" + 0.038*\"information_available\" + 0.025*\"list\" + 0.022*\"stable\" + 0.017*\"widely_distribute\" + 0.016*\"fairly\" + 0.016*\"relatively\" + 0.015*\"consider\"\n",
    "    \n",
    "    Topic: 7 Forest_ecosystem\n",
    "    Words: 0.124*\"forest\" + 0.066*\"find\" + 0.043*\"tree\" + 0.041*\"occur\" + 0.032*\"grow\" + 0.024*\"species\" + 0.024*\"area\" + 0.022*\"lowland\" + 0.020*\"dry\" + 0.020*\"habitat\" + 0.019*\"small\" + 0.018*\"montane\" + 0.017*\"soil\" + 0.017*\"shrub\" + 0.016*\"altitude\" + 0.014*\"open\"\n",
    "    \n",
    "    Topic: 8 Population_structure\n",
    "    Words: 0.089*\"population\" + 0.050*\"individual\" + 0.047*\"estimate\" + 0.044*\"decline\" + 0.042*\"year\" + 0.027*\"number\" + 0.025*\"coral\" + 0.025*\"subpopulation\" + 0.023*\"reef\" + 0.022*\"total\" + 0.021*\"generation\" + 0.017*\"mature_individual\" + 0.016*\"range\" + 0.015*\"increase\" + 0.015*\"reduction\" + 0.013*\"base\"\n",
    "    \n",
    "    Topic: 9 Fisheries_threats\n",
    "    Words: 0.096*\"trade\" + 0.061*\"fishery\" + 0.061*\"use\" + 0.048*\"catch\" + 0.036*\"information\" + 0.031*\"fishing\" + 0.029*\"datum\" + 0.028*\"fish\" + 0.024*\"commercial\" + 0.022*\"know\" + 0.021*\"report\" + 0.021*\"available\" + 0.018*\"harvest\" + 0.017*\"population\" + 0.016*\"range\" + 0.015*\"target\"\n",
    "    \n",
    "    Topic: 10 Threat_distribution\n",
    "    Words: 0.141*\"threat\" + 0.082*\"distribution\" + 0.075*\"wide\" + 0.064*\"large\" + 0.062*\"major\" + 0.057*\"population\" + 0.052*\"currently\" + 0.052*\"assess\" + 0.048*\"significant\" + 0.042*\"future\" + 0.041*\"identify\" + 0.031*\"tree\" + 0.016*\"view\" + 0.015*\"concern\" + 0.014*\"presume\" + 0.014*\"range\"\n",
    "    \n",
    "    Topic: 11 Forest_fragmentation\n",
    "    Words: 0.067*\"forest\" + 0.053*\"fragment\" + 0.053*\"habitat\" + 0.039*\"threaten\" + 0.038*\"severely\" + 0.032*\"area\" + 0.028*\"taxon\" + 0.025*\"population\" + 0.023*\"decline\" + 0.021*\"rate\" + 0.020*\"subpopulation\" + 0.019*\"range\" + 0.019*\"consider\" + 0.018*\"category\" + 0.018*\"distribution\" + 0.016*\"land\"\n",
    "    \n",
    "    Topic: 12 Habitat_loss\n",
    "    Words: 0.139*\"habitat\" + 0.092*\"loss\" + 0.048*\"species\" + 0.046*\"threat\" + 0.044*\"degradation\" + 0.034*\"range\" + 0.033*\"threaten\" + 0.021*\"area\" + 0.020*\"forest\" + 0.018*\"population\" + 0.017*\"likely\" + 0.016*\"deforestation\" + 0.015*\"assess\" + 0.015*\"decline\" + 0.015*\"occur\" + 0.012*\"agriculture\"\n",
    "    \n",
    "    Topic: 13 Area_based_protection\n",
    "    Words: 0.146*\"protect\" + 0.134*\"area\" + 0.076*\"occur\" + 0.054*\"conservation_measure\" + 0.050*\"know\" + 0.046*\"specific\" + 0.045*\"place\" + 0.035*\"species\" + 0.028*\"collection\" + 0.026*\"range\" + 0.025*\"present\" + 0.021*\"list\" + 0.021*\"utilize\" + 0.017*\"find\" + 0.016*\"subpopulation\" + 0.015*\"marine\"\n",
    "    \n",
    "    Topic: 14 Assessment_criteria \n",
    "    Words: 0.119*\"decline\" + 0.065*\"population\" + 0.051*\"habitat\" + 0.043*\"criterion\" + 0.041*\"quality\" + 0.036*\"assess\" + 0.032*\"range\" + 0.031*\"extent\" + 0.031*\"number\" + 0.029*\"ongoing\" + 0.022*\"location\" + 0.020*\"suspect\" + 0.019*\"small\" + 0.018*\"extent_occurrence\" + 0.017*\"qualify\" + 0.016*\"occur\"\n",
    "    \n",
    "    Topic: 15 Population_dynamics\n",
    "    Words: 0.172*\"population\" + 0.140*\"size\" + 0.063*\"trend\" + 0.054*\"range\" + 0.044*\"criterion\" + 0.043*\"approach_threshold\" + 0.040*\"decline\" + 0.031*\"year_generation\" + 0.028*\"believe\" + 0.026*\"quantify\" + 0.023*\"large\" + 0.022*\"small\" + 0.021*\"estimate\" + 0.020*\"number\" + 0.019*\"mature_individual\" + 0.017*\"appear\"\n",
    "    \n",
    "    Topic: 16 Conservation_actions\n",
    "    Words: 0.069*\"conservation\" + 0.064*\"need\" + 0.061*\"population\" + 0.055*\"research\" + 0.038*\"action\" + 0.033*\"protect\" + 0.031*\"area\" + 0.029*\"management\" + 0.029*\"habitat\" + 0.028*\"trend\" + 0.027*\"distribution\" + 0.026*\"threat\" + 0.023*\"protection\" + 0.022*\"ecology\" + 0.021*\"recommend\" + 0.020*\"require\""
   ]
  },
  {
   "cell_type": "markdown",
   "metadata": {},
   "source": [
    "## Questions 20/07\n",
    "\n",
    "\n",
    "\n"
   ]
  },
  {
   "cell_type": "markdown",
   "metadata": {},
   "source": [
    "## Questions 10/06\n",
    "\n",
    "Getting the terminology right: (include a glossary in paper)\n",
    "Corpus = entire text data\n",
    "Document = single observation of text from any of the assessment sections (add more detail to properly explain)\n",
    "complete text from any single section of an assesment\n",
    "Token = word/bigram\n",
    "\n",
    "From the assessment text data:\n",
    "Each assessment is made up of 7 sections: \n",
    "    summary of the 6 sections below (rationale)\n",
    "    habitat\n",
    "    threats\n",
    "    population\n",
    "    range\n",
    "    useTrade\n",
    "    conservationActions\n",
    "    \n",
    "###########################################################################\n",
    "\n",
    "Write bullet points for discussion around the results\n",
    "\n",
    "Try to use spatial data to map topics (try with mammals first) (mammals and birds are complete)"
   ]
  },
  {
   "cell_type": "markdown",
   "metadata": {},
   "source": [
    "## Questions 27/05\n",
    "\n"
   ]
  },
  {
   "cell_type": "markdown",
   "metadata": {},
   "source": [
    "## Questions 20/05"
   ]
  },
  {
   "cell_type": "markdown",
   "metadata": {},
   "source": [
    "Add according to number of columns available then divide by them eg if only 2 columns then add and divide by 2"
   ]
  },
  {
   "cell_type": "markdown",
   "metadata": {},
   "source": [
    "## Questions 13/05"
   ]
  },
  {
   "cell_type": "markdown",
   "metadata": {},
   "source": [
    "1) Use red list category to predict category for species (split into train and test set)\n",
    "    (outside of scope of project but can discuss the possibility of updating categories using information outside of the text justifications collection of IUCN)\n",
    "\n",
    "2) Group by different columns of supporting text and expand on the topic composition (conservation actions, go through the supporting texts and find out if there are present categories if not then use model to try and classify)\n",
    "\n"
   ]
  },
  {
   "cell_type": "markdown",
   "metadata": {},
   "source": [
    "## Questions 22/04"
   ]
  },
  {
   "cell_type": "markdown",
   "metadata": {},
   "source": [
    "What do you think of the setup in the introduction\n",
    "\n",
    "Use 'I' or 'We' in report? choose one and be consistent\n",
    "\n",
    "How verbose when explaining methodology?\n",
    "1) list out individual steps in preprocessing the text \n",
    "\n",
    "2) a summarised overview, e.g. used regex to remove noise, spaCy to remove stopwords, lemmatise and tokenise\n",
    "\n",
    "include enough info to repeat what I did "
   ]
  },
  {
   "cell_type": "markdown",
   "metadata": {},
   "source": [
    "Comments on current report draft:\n",
    "\n",
    "look at conservation evidence database (https://www.conservationevidence.com/)\n",
    "\n",
    "intro: start from nothing and work toward how this project builds on it\n",
    "\n",
    "make the dataset summary into a table first"
   ]
  }
 ],
 "metadata": {
  "kernelspec": {
   "display_name": "LDAproject",
   "language": "python",
   "name": "ldaproject"
  },
  "language_info": {
   "codemirror_mode": {
    "name": "ipython",
    "version": 3
   },
   "file_extension": ".py",
   "mimetype": "text/x-python",
   "name": "python",
   "nbconvert_exporter": "python",
   "pygments_lexer": "ipython3",
   "version": "3.9.5"
  }
 },
 "nbformat": 4,
 "nbformat_minor": 4
}
